{
  "cells": [
    {
      "cell_type": "code",
      "execution_count": null,
      "metadata": {
        "colab": {
          "base_uri": "https://localhost:8080/"
        },
        "id": "36dAOf4x1Gd5",
        "outputId": "529fb0a4-5a9a-4d6d-d4e0-31fce709a68b"
      },
      "outputs": [
        {
          "output_type": "stream",
          "name": "stdout",
          "text": [
            "Collecting keras-tuner\n",
            "  Downloading keras_tuner-1.1.2-py3-none-any.whl (133 kB)\n",
            "\u001b[?25l\r\u001b[K     |██▌                             | 10 kB 19.7 MB/s eta 0:00:01\r\u001b[K     |█████                           | 20 kB 25.3 MB/s eta 0:00:01\r\u001b[K     |███████▍                        | 30 kB 12.5 MB/s eta 0:00:01\r\u001b[K     |█████████▉                      | 40 kB 9.5 MB/s eta 0:00:01\r\u001b[K     |████████████▎                   | 51 kB 3.8 MB/s eta 0:00:01\r\u001b[K     |██████████████▊                 | 61 kB 4.5 MB/s eta 0:00:01\r\u001b[K     |█████████████████▏              | 71 kB 4.6 MB/s eta 0:00:01\r\u001b[K     |███████████████████▋            | 81 kB 4.3 MB/s eta 0:00:01\r\u001b[K     |██████████████████████          | 92 kB 4.8 MB/s eta 0:00:01\r\u001b[K     |████████████████████████▌       | 102 kB 4.3 MB/s eta 0:00:01\r\u001b[K     |███████████████████████████     | 112 kB 4.3 MB/s eta 0:00:01\r\u001b[K     |█████████████████████████████▍  | 122 kB 4.3 MB/s eta 0:00:01\r\u001b[K     |███████████████████████████████▉| 133 kB 4.3 MB/s eta 0:00:01\r\u001b[K     |████████████████████████████████| 133 kB 4.3 MB/s \n",
            "\u001b[?25hRequirement already satisfied: tensorboard in /usr/local/lib/python3.7/dist-packages (from keras-tuner) (2.8.0)\n",
            "Requirement already satisfied: numpy in /usr/local/lib/python3.7/dist-packages (from keras-tuner) (1.21.5)\n",
            "Requirement already satisfied: requests in /usr/local/lib/python3.7/dist-packages (from keras-tuner) (2.23.0)\n",
            "Requirement already satisfied: ipython in /usr/local/lib/python3.7/dist-packages (from keras-tuner) (5.5.0)\n",
            "Collecting kt-legacy\n",
            "  Downloading kt_legacy-1.0.4-py3-none-any.whl (9.6 kB)\n",
            "Requirement already satisfied: packaging in /usr/local/lib/python3.7/dist-packages (from keras-tuner) (21.3)\n",
            "Requirement already satisfied: decorator in /usr/local/lib/python3.7/dist-packages (from ipython->keras-tuner) (4.4.2)\n",
            "Requirement already satisfied: pygments in /usr/local/lib/python3.7/dist-packages (from ipython->keras-tuner) (2.6.1)\n",
            "Requirement already satisfied: pexpect in /usr/local/lib/python3.7/dist-packages (from ipython->keras-tuner) (4.8.0)\n",
            "Requirement already satisfied: setuptools>=18.5 in /usr/local/lib/python3.7/dist-packages (from ipython->keras-tuner) (57.4.0)\n",
            "Requirement already satisfied: traitlets>=4.2 in /usr/local/lib/python3.7/dist-packages (from ipython->keras-tuner) (5.1.1)\n",
            "Requirement already satisfied: pickleshare in /usr/local/lib/python3.7/dist-packages (from ipython->keras-tuner) (0.7.5)\n",
            "Requirement already satisfied: prompt-toolkit<2.0.0,>=1.0.4 in /usr/local/lib/python3.7/dist-packages (from ipython->keras-tuner) (1.0.18)\n",
            "Requirement already satisfied: simplegeneric>0.8 in /usr/local/lib/python3.7/dist-packages (from ipython->keras-tuner) (0.8.1)\n",
            "Requirement already satisfied: six>=1.9.0 in /usr/local/lib/python3.7/dist-packages (from prompt-toolkit<2.0.0,>=1.0.4->ipython->keras-tuner) (1.15.0)\n",
            "Requirement already satisfied: wcwidth in /usr/local/lib/python3.7/dist-packages (from prompt-toolkit<2.0.0,>=1.0.4->ipython->keras-tuner) (0.2.5)\n",
            "Requirement already satisfied: pyparsing!=3.0.5,>=2.0.2 in /usr/local/lib/python3.7/dist-packages (from packaging->keras-tuner) (3.0.7)\n",
            "Requirement already satisfied: ptyprocess>=0.5 in /usr/local/lib/python3.7/dist-packages (from pexpect->ipython->keras-tuner) (0.7.0)\n",
            "Requirement already satisfied: idna<3,>=2.5 in /usr/local/lib/python3.7/dist-packages (from requests->keras-tuner) (2.10)\n",
            "Requirement already satisfied: urllib3!=1.25.0,!=1.25.1,<1.26,>=1.21.1 in /usr/local/lib/python3.7/dist-packages (from requests->keras-tuner) (1.24.3)\n",
            "Requirement already satisfied: certifi>=2017.4.17 in /usr/local/lib/python3.7/dist-packages (from requests->keras-tuner) (2021.10.8)\n",
            "Requirement already satisfied: chardet<4,>=3.0.2 in /usr/local/lib/python3.7/dist-packages (from requests->keras-tuner) (3.0.4)\n",
            "Requirement already satisfied: google-auth-oauthlib<0.5,>=0.4.1 in /usr/local/lib/python3.7/dist-packages (from tensorboard->keras-tuner) (0.4.6)\n",
            "Requirement already satisfied: wheel>=0.26 in /usr/local/lib/python3.7/dist-packages (from tensorboard->keras-tuner) (0.37.1)\n",
            "Requirement already satisfied: tensorboard-data-server<0.7.0,>=0.6.0 in /usr/local/lib/python3.7/dist-packages (from tensorboard->keras-tuner) (0.6.1)\n",
            "Requirement already satisfied: markdown>=2.6.8 in /usr/local/lib/python3.7/dist-packages (from tensorboard->keras-tuner) (3.3.6)\n",
            "Requirement already satisfied: tensorboard-plugin-wit>=1.6.0 in /usr/local/lib/python3.7/dist-packages (from tensorboard->keras-tuner) (1.8.1)\n",
            "Requirement already satisfied: werkzeug>=0.11.15 in /usr/local/lib/python3.7/dist-packages (from tensorboard->keras-tuner) (1.0.1)\n",
            "Requirement already satisfied: google-auth<3,>=1.6.3 in /usr/local/lib/python3.7/dist-packages (from tensorboard->keras-tuner) (1.35.0)\n",
            "Requirement already satisfied: protobuf>=3.6.0 in /usr/local/lib/python3.7/dist-packages (from tensorboard->keras-tuner) (3.17.3)\n",
            "Requirement already satisfied: absl-py>=0.4 in /usr/local/lib/python3.7/dist-packages (from tensorboard->keras-tuner) (1.0.0)\n",
            "Requirement already satisfied: grpcio>=1.24.3 in /usr/local/lib/python3.7/dist-packages (from tensorboard->keras-tuner) (1.44.0)\n",
            "Requirement already satisfied: rsa<5,>=3.1.4 in /usr/local/lib/python3.7/dist-packages (from google-auth<3,>=1.6.3->tensorboard->keras-tuner) (4.8)\n",
            "Requirement already satisfied: cachetools<5.0,>=2.0.0 in /usr/local/lib/python3.7/dist-packages (from google-auth<3,>=1.6.3->tensorboard->keras-tuner) (4.2.4)\n",
            "Requirement already satisfied: pyasn1-modules>=0.2.1 in /usr/local/lib/python3.7/dist-packages (from google-auth<3,>=1.6.3->tensorboard->keras-tuner) (0.2.8)\n",
            "Requirement already satisfied: requests-oauthlib>=0.7.0 in /usr/local/lib/python3.7/dist-packages (from google-auth-oauthlib<0.5,>=0.4.1->tensorboard->keras-tuner) (1.3.1)\n",
            "Requirement already satisfied: importlib-metadata>=4.4 in /usr/local/lib/python3.7/dist-packages (from markdown>=2.6.8->tensorboard->keras-tuner) (4.11.3)\n",
            "Requirement already satisfied: zipp>=0.5 in /usr/local/lib/python3.7/dist-packages (from importlib-metadata>=4.4->markdown>=2.6.8->tensorboard->keras-tuner) (3.7.0)\n",
            "Requirement already satisfied: typing-extensions>=3.6.4 in /usr/local/lib/python3.7/dist-packages (from importlib-metadata>=4.4->markdown>=2.6.8->tensorboard->keras-tuner) (3.10.0.2)\n",
            "Requirement already satisfied: pyasn1<0.5.0,>=0.4.6 in /usr/local/lib/python3.7/dist-packages (from pyasn1-modules>=0.2.1->google-auth<3,>=1.6.3->tensorboard->keras-tuner) (0.4.8)\n",
            "Requirement already satisfied: oauthlib>=3.0.0 in /usr/local/lib/python3.7/dist-packages (from requests-oauthlib>=0.7.0->google-auth-oauthlib<0.5,>=0.4.1->tensorboard->keras-tuner) (3.2.0)\n",
            "Installing collected packages: kt-legacy, keras-tuner\n",
            "Successfully installed keras-tuner-1.1.2 kt-legacy-1.0.4\n",
            "INFO:tensorflow:Mixed precision compatibility check (mixed_float16): OK\n",
            "Your GPU will likely run quickly with dtype policy mixed_float16 as it has compute capability of at least 7.0. Your GPU: Tesla T4, compute capability 7.5\n",
            "Mounted at /content/drive\n"
          ]
        }
      ],
      "source": [
        "import pandas as pd\n",
        "import numpy as np\n",
        "import matplotlib.pyplot as plt\n",
        "import datetime\n",
        "from google.colab import drive\n",
        "from sklearn.model_selection import train_test_split\n",
        "from tensorflow import keras\n",
        "from tensorflow.keras import layers\n",
        "import tensorflow as tf\n",
        "!pip install keras-tuner\n",
        "from tensorflow.keras import mixed_precision\n",
        "import keras_tuner as kt\n",
        "policy = mixed_precision.Policy('mixed_float16')\n",
        "mixed_precision.set_global_policy(policy)\n",
        "keras.utils.set_random_seed(9)\n",
        "drive.mount('/content/drive')"
      ]
    },
    {
      "cell_type": "code",
      "execution_count": null,
      "metadata": {
        "id": "i9xPCCfc1WNw"
      },
      "outputs": [],
      "source": [
        "injury_history = pd.read_csv('/content/drive/MyDrive/data_490/injury_data/injury_history')\n",
        "bio_data = pd.read_csv('/content/drive/MyDrive/data_490/processed_data/bio_data.csv')\n",
        "ts_data = pd.read_pickle('/content/drive/MyDrive/data_490/processed_data/thirty_day_timestep_df')"
      ]
    },
    {
      "cell_type": "code",
      "execution_count": null,
      "metadata": {
        "id": "fRYrSMxaRFTc"
      },
      "outputs": [],
      "source": [
        "bio_data.player_age = bio_data['player_age'].str.split(' ').str[0]"
      ]
    },
    {
      "cell_type": "code",
      "execution_count": null,
      "metadata": {
        "id": "lh1sdJDT4_-_"
      },
      "outputs": [],
      "source": [
        "indexes = np.random.permutation(len(ts_data))\n",
        "train_size = int(len(indexes)*.8)\n",
        "valid_size = int(train_size*.2)\n",
        "train_indexes = indexes[valid_size:train_size]\n",
        "valid_indexes = indexes[:valid_size]\n",
        "test_indexes = indexes[train_size:]"
      ]
    },
    {
      "cell_type": "code",
      "execution_count": null,
      "metadata": {
        "id": "M8Cf9O5wJSux"
      },
      "outputs": [],
      "source": [
        "bio_data = bio_data.fillna(-1)\n",
        "injury_history = injury_history.fillna(-1)"
      ]
    },
    {
      "cell_type": "code",
      "execution_count": null,
      "metadata": {
        "id": "jmtR3SYv57Kg"
      },
      "outputs": [],
      "source": [
        "ts_train = np.stack(ts_data.loc[train_indexes, 'time_series'].values).astype(np.float16)[:,:,:-1]\n",
        "ts_valid = np.stack(ts_data.loc[valid_indexes, 'time_series'].values).astype(np.float16)[:,:,:-1]\n",
        "ts_test = np.stack(ts_data.loc[test_indexes, 'time_series'].values).astype(np.float16)[:,:,:-1]\n",
        "bio_train = bio_data.iloc[train_indexes, 2:].astype(np.float16)\n",
        "bio_valid = bio_data.iloc[valid_indexes, 2:].astype(np.float16)\n",
        "bio_test = bio_data.iloc[test_indexes, 2:].astype(np.float16)\n",
        "injury_train = injury_history.iloc[train_indexes, 2:].astype(np.float16)\n",
        "injury_valid = injury_history.iloc[valid_indexes, 2:].astype(np.float16)\n",
        "injury_test = injury_history.iloc[test_indexes, 2:].astype(np.float16)\n",
        "train_target =  ts_data.loc[train_indexes, 'injured'].astype(np.float16)\n",
        "valid_target =  ts_data.loc[valid_indexes, 'injured'].astype(np.float16)\n",
        "test_target = ts_data.loc[test_indexes, 'injured'].astype(np.float16)"
      ]
    },
    {
      "cell_type": "code",
      "execution_count": null,
      "metadata": {
        "id": "1hRm3p_4oERM"
      },
      "outputs": [],
      "source": [
        "class PositionalEncoding(tf.keras.layers.Layer):\n",
        "    def __init__(self, dropout=0, time_steps=30, features=85):\n",
        "        super().__init__()\n",
        "        self.dropout = layers.Dropout(dropout)\n",
        "        p = np.zeros(np.shape((1, time_steps, features)))\n",
        "        columns = np.arange(features)\n",
        "        rows = np.arange(time_steps)\n",
        "        p = rows.reshape(-1,1)/1000**(columns*2/features)\n",
        "        p[:, 0::2] = np.sin(p[:,0::2])\n",
        "        p[:, 1::2] = np.cos(p[:, 1::2])\n",
        "        self.p = p\n",
        "\n",
        "    def call(self, x, **kwargs):\n",
        "        x = x + self.p\n",
        "        return self.dropout(x)"
      ]
    },
    {
      "cell_type": "code",
      "execution_count": null,
      "metadata": {
        "id": "znvTGaxs-SZR"
      },
      "outputs": [],
      "source": [
        "from re import X\n",
        "def transformer_encoder(inputs, head_size, num_heads, conv_filters, kernel_size, dropout=0):\n",
        "    x = layers.LayerNormalization(epsilon=1e-6)(inputs)\n",
        "    x = layers.MultiHeadAttention(\n",
        "        key_dim=head_size, num_heads=num_heads, dropout=dropout\n",
        "    )(x, x)\n",
        "    x = layers.Dropout(dropout)(x)\n",
        "    res = x + inputs\n",
        "\n",
        "    # Feed Forward Part\n",
        "    x = layers.LayerNormalization(epsilon=1e-6)(res)\n",
        "    x = layers.Conv1D(filters=conv_filters, kernel_size=kernel_size, activation=\"relu\", padding='same')(x)\n",
        "    X = layers.Dropout(dropout)(x)\n",
        "    x = layers.Conv1D(filters=inputs.shape[-1], kernel_size=1)(x)\n",
        "    return x + res"
      ]
    },
    {
      "cell_type": "code",
      "execution_count": null,
      "metadata": {
        "id": "O8XU07y3-TKA"
      },
      "outputs": [],
      "source": [
        "def build_mixed_model(\n",
        "    ts_input_shape,\n",
        "    injury_input_shape,\n",
        "    bio_input_shape,\n",
        "    head_size=256,\n",
        "    num_heads=8,\n",
        "    conv_filters=64,\n",
        "    kernel_size=3,\n",
        "    num_transformer_blocks=4,\n",
        "    mlp_units=128,\n",
        "    mlp_layers=2,\n",
        "    encoder_dropout=0,\n",
        "    mlp_dropout=0,\n",
        "    pe_dropout=0,\n",
        "    embedding_dropout=0,\n",
        "    pe=True,\n",
        "    embedding=True,\n",
        "):\n",
        "    ts_input = keras.Input(shape=ts_input_shape)\n",
        "    x = ts_input\n",
        "    x = keras.layers.Normalization(axis=1)(x)\n",
        "    \n",
        "    #Embedding\n",
        "    if embedding:\n",
        "      x = layers.Flatten(input_shape=ts_input_shape)(x)\n",
        "      x = layers.Dense(ts_input_shape[-1]*ts_input_shape[-2], activation='tanh')(x)\n",
        "      x = layers.Dropout(embedding_dropout)(x)\n",
        "      x = layers.Reshape(ts_input_shape)(x)\n",
        "\n",
        "    #Positional Encoding\n",
        "    if pe:\n",
        "      x = PositionalEncoding()(x)\n",
        "    for _ in range(num_transformer_blocks):\n",
        "        x = transformer_encoder(x, head_size, num_heads, conv_filters, kernel_size, encoder_dropout)\n",
        "\n",
        "\n",
        "    bio_input = keras.Input(shape=bio_input_shape)\n",
        "    bio = layers.experimental.preprocessing.Normalization()(bio_input)\n",
        "\n",
        "    injury_input = keras.Input(shape=injury_input_shape) \n",
        "    injury = layers.experimental.preprocessing.Normalization()(injury_input)\n",
        "\n",
        "    x = layers.GlobalAveragePooling1D(data_format=\"channels_first\")(x)\n",
        "    x = tf.keras.layers.Concatenate()([x, injury, bio])\n",
        "\n",
        "    for i in range(mlp_layers):\n",
        "        x = layers.Dense(mlp_units, activation=\"relu\")(x)\n",
        "        x = layers.Dropout(mlp_dropout)(x)\n",
        "    inputs = [ts_input, injury_input, bio_input]\n",
        "    outputs = layers.Dense(1, activation=\"sigmoid\")(x)\n",
        "    return keras.Model(inputs, outputs)"
      ]
    },
    {
      "cell_type": "code",
      "execution_count": null,
      "metadata": {
        "colab": {
          "base_uri": "https://localhost:8080/"
        },
        "id": "LbITDFZlnxfv",
        "outputId": "bd129ce5-eff7-4642-9c50-d89686c4e887"
      },
      "outputs": [
        {
          "output_type": "execute_result",
          "data": {
            "text/plain": [
              "[32, 64, 128, 256]"
            ]
          },
          "metadata": {},
          "execution_count": 10
        }
      ],
      "source": [
        "[2**i for i in range(5,9)]"
      ]
    },
    {
      "cell_type": "code",
      "execution_count": null,
      "metadata": {
        "id": "8_VJgShanfsb"
      },
      "outputs": [],
      "source": [
        "def model_search(hp):\n",
        "  \n",
        "  ts_shape = np.shape(ts_train)[1:]\n",
        "  injury_shape = np.shape(injury_train)[1:]\n",
        "  bio_shape = np.shape(bio_train)[1:]\n",
        "\n",
        "  model = build_mixed_model(\n",
        "  ts_shape,\n",
        "  injury_shape,\n",
        "  bio_shape,\n",
        "  head_size = hp.Choice('head_size' , [2**i for i in range(5,10)]),\n",
        "  num_heads = hp.Choice('num_heads', [2**i for i in range(2,6)]),\n",
        "  conv_filters = hp.Choice('conv_filters', [2**i for i in range(4,8)]),\n",
        "  num_transformer_blocks = hp.Int('num_encoder_blocks', 2, 5),\n",
        "  mlp_units=hp.Choice('mlp_units', [2**i for i in range(5,9)]),\n",
        "  mlp_layers=hp.Int('mlp_layers', 1, 4),\n",
        "  encoder_dropout = hp.Float('encoder_dropout', 0, .5),\n",
        "  mlp_dropout = hp.Float('mlp_dropout', 0, .5),\n",
        "  pe_dropout = hp.Float('pe_dropout', 0, .5),\n",
        "  embedding_dropout= hp.Float('embedding_dropout', 0, .5),\n",
        "  pe= hp.Boolean('pe', default=True),\n",
        "  embedding= hp.Boolean('embedding', default=True)\n",
        "  )\n",
        "\n",
        "  opt = keras.optimizers.Adam(learning_rate=hp.Float('lr', 1e-7, 1e-3))\n",
        "  \n",
        "  \n",
        "  model.compile(\n",
        "    loss=keras.losses.BinaryCrossentropy(),\n",
        "    optimizer=opt,\n",
        "    metrics=[keras.metrics.AUC()],\n",
        "    steps_per_execution=32,\n",
        "    jit_compile=True\n",
        "  )\n",
        "  return model"
      ]
    },
    {
      "cell_type": "code",
      "execution_count": null,
      "metadata": {
        "id": "OMNAbE2gsCKB"
      },
      "outputs": [],
      "source": [
        "tuner = kt.RandomSearch(\n",
        "    model_search,\n",
        "    'val_loss',\n",
        "    max_trials=100)"
      ]
    },
    {
      "cell_type": "code",
      "execution_count": null,
      "metadata": {
        "colab": {
          "base_uri": "https://localhost:8080/"
        },
        "id": "7EmagkelsU4e",
        "outputId": "88062e3e-21b7-4501-f756-40740bab7a9f"
      },
      "outputs": [
        {
          "output_type": "stream",
          "name": "stdout",
          "text": [
            "Trial 65 Complete [00h 05m 35s]\n",
            "val_loss: 0.08804738521575928\n",
            "\n",
            "Best val_loss So Far: 0.08229991048574448\n",
            "Total elapsed time: 19h 56m 24s\n",
            "\n",
            "Search: Running Trial #66\n",
            "\n",
            "Value             |Best Value So Far |Hyperparameter\n",
            "64                |128               |head_size\n",
            "8                 |32                |num_heads\n",
            "32                |32                |conv_filters\n",
            "7                 |4                 |num_encoder_blocks\n",
            "128               |128               |mlp_units\n",
            "4                 |3                 |mlp_layers\n",
            "0.015989          |0.28705           |encoder_dropout\n",
            "0.052893          |0.14918           |mlp_dropout\n",
            "0.14986           |0.25219           |pe_dropout\n",
            "0.48895           |0.077008          |embedding_dropout\n",
            "False             |True              |pe\n",
            "False             |False             |embedding\n",
            "0.00093291        |0.00091911        |lr\n",
            "\n",
            "Epoch 1/100\n",
            "331/331 [==============================] - 92s 277ms/step - loss: 25.5259 - auc: 0.4911 - val_loss: 0.2083 - val_auc: 0.5787\n"
          ]
        }
      ],
      "source": [
        "callbacks = [keras.callbacks.EarlyStopping(patience=10)]\n",
        "tuner.search([ts_train, injury_train, bio_train],\n",
        "            train_target,\n",
        "           validation_data=[[ts_valid, injury_valid, bio_valid], valid_target],\n",
        "           epochs=100, callbacks=callbacks,\n",
        "           batch_size=256)"
      ]
    },
    {
      "cell_type": "code",
      "source": [
        "print(tuner.get_best_hyperparameters(num_trials=1)[0])"
      ],
      "metadata": {
        "id": "MwAreb_H_ki7",
        "colab": {
          "base_uri": "https://localhost:8080/",
          "height": 168
        },
        "outputId": "91b3130f-a542-49cd-bae8-16163085889e"
      },
      "execution_count": 1,
      "outputs": [
        {
          "output_type": "error",
          "ename": "NameError",
          "evalue": "ignored",
          "traceback": [
            "\u001b[0;31m---------------------------------------------------------------------------\u001b[0m",
            "\u001b[0;31mNameError\u001b[0m                                 Traceback (most recent call last)",
            "\u001b[0;32m<ipython-input-1-df6ca2f852ba>\u001b[0m in \u001b[0;36m<module>\u001b[0;34m()\u001b[0m\n\u001b[0;32m----> 1\u001b[0;31m \u001b[0mprint\u001b[0m\u001b[0;34m(\u001b[0m\u001b[0mtuner\u001b[0m\u001b[0;34m.\u001b[0m\u001b[0mget_best_hyperparameters\u001b[0m\u001b[0;34m(\u001b[0m\u001b[0mnum_trials\u001b[0m\u001b[0;34m=\u001b[0m\u001b[0;36m1\u001b[0m\u001b[0;34m)\u001b[0m\u001b[0;34m[\u001b[0m\u001b[0;36m0\u001b[0m\u001b[0;34m]\u001b[0m\u001b[0;34m)\u001b[0m\u001b[0;34m\u001b[0m\u001b[0;34m\u001b[0m\u001b[0m\n\u001b[0m",
            "\u001b[0;31mNameError\u001b[0m: name 'tuner' is not defined"
          ]
        }
      ]
    }
  ],
  "metadata": {
    "accelerator": "GPU",
    "colab": {
      "machine_shape": "hm",
      "name": "HP Search Mixed Model Transformer.ipynb",
      "provenance": [],
      "collapsed_sections": [],
      "authorship_tag": "ABX9TyOyqx+mhWGqqHkR/pYvZee4"
    },
    "kernelspec": {
      "display_name": "Python 3",
      "name": "python3"
    },
    "language_info": {
      "name": "python"
    }
  },
  "nbformat": 4,
  "nbformat_minor": 0
}