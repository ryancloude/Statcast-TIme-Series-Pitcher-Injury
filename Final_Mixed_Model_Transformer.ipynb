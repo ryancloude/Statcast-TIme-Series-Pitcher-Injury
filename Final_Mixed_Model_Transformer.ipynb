{
  "cells": [
    {
      "cell_type": "code",
      "execution_count": 1,
      "metadata": {
        "colab": {
          "base_uri": "https://localhost:8080/"
        },
        "id": "36dAOf4x1Gd5",
        "outputId": "7631bf57-999d-49dd-8c6a-a0b95a9cb87c"
      },
      "outputs": [
        {
          "output_type": "stream",
          "name": "stdout",
          "text": [
            "Requirement already satisfied: keras-tuner in /usr/local/lib/python3.7/dist-packages (1.1.2)\n",
            "Requirement already satisfied: tensorboard in /usr/local/lib/python3.7/dist-packages (from keras-tuner) (2.8.0)\n",
            "Requirement already satisfied: numpy in /usr/local/lib/python3.7/dist-packages (from keras-tuner) (1.21.5)\n",
            "Requirement already satisfied: packaging in /usr/local/lib/python3.7/dist-packages (from keras-tuner) (21.3)\n",
            "Requirement already satisfied: requests in /usr/local/lib/python3.7/dist-packages (from keras-tuner) (2.23.0)\n",
            "Requirement already satisfied: kt-legacy in /usr/local/lib/python3.7/dist-packages (from keras-tuner) (1.0.4)\n",
            "Requirement already satisfied: ipython in /usr/local/lib/python3.7/dist-packages (from keras-tuner) (5.5.0)\n",
            "Requirement already satisfied: prompt-toolkit<2.0.0,>=1.0.4 in /usr/local/lib/python3.7/dist-packages (from ipython->keras-tuner) (1.0.18)\n",
            "Requirement already satisfied: setuptools>=18.5 in /usr/local/lib/python3.7/dist-packages (from ipython->keras-tuner) (57.4.0)\n",
            "Requirement already satisfied: pickleshare in /usr/local/lib/python3.7/dist-packages (from ipython->keras-tuner) (0.7.5)\n",
            "Requirement already satisfied: decorator in /usr/local/lib/python3.7/dist-packages (from ipython->keras-tuner) (4.4.2)\n",
            "Requirement already satisfied: simplegeneric>0.8 in /usr/local/lib/python3.7/dist-packages (from ipython->keras-tuner) (0.8.1)\n",
            "Requirement already satisfied: pygments in /usr/local/lib/python3.7/dist-packages (from ipython->keras-tuner) (2.6.1)\n",
            "Requirement already satisfied: pexpect in /usr/local/lib/python3.7/dist-packages (from ipython->keras-tuner) (4.8.0)\n",
            "Requirement already satisfied: traitlets>=4.2 in /usr/local/lib/python3.7/dist-packages (from ipython->keras-tuner) (5.1.1)\n",
            "Requirement already satisfied: wcwidth in /usr/local/lib/python3.7/dist-packages (from prompt-toolkit<2.0.0,>=1.0.4->ipython->keras-tuner) (0.2.5)\n",
            "Requirement already satisfied: six>=1.9.0 in /usr/local/lib/python3.7/dist-packages (from prompt-toolkit<2.0.0,>=1.0.4->ipython->keras-tuner) (1.15.0)\n",
            "Requirement already satisfied: pyparsing!=3.0.5,>=2.0.2 in /usr/local/lib/python3.7/dist-packages (from packaging->keras-tuner) (3.0.8)\n",
            "Requirement already satisfied: ptyprocess>=0.5 in /usr/local/lib/python3.7/dist-packages (from pexpect->ipython->keras-tuner) (0.7.0)\n",
            "Requirement already satisfied: chardet<4,>=3.0.2 in /usr/local/lib/python3.7/dist-packages (from requests->keras-tuner) (3.0.4)\n",
            "Requirement already satisfied: idna<3,>=2.5 in /usr/local/lib/python3.7/dist-packages (from requests->keras-tuner) (2.10)\n",
            "Requirement already satisfied: certifi>=2017.4.17 in /usr/local/lib/python3.7/dist-packages (from requests->keras-tuner) (2021.10.8)\n",
            "Requirement already satisfied: urllib3!=1.25.0,!=1.25.1,<1.26,>=1.21.1 in /usr/local/lib/python3.7/dist-packages (from requests->keras-tuner) (1.24.3)\n",
            "Requirement already satisfied: werkzeug>=0.11.15 in /usr/local/lib/python3.7/dist-packages (from tensorboard->keras-tuner) (1.0.1)\n",
            "Requirement already satisfied: google-auth<3,>=1.6.3 in /usr/local/lib/python3.7/dist-packages (from tensorboard->keras-tuner) (1.35.0)\n",
            "Requirement already satisfied: absl-py>=0.4 in /usr/local/lib/python3.7/dist-packages (from tensorboard->keras-tuner) (1.0.0)\n",
            "Requirement already satisfied: protobuf>=3.6.0 in /usr/local/lib/python3.7/dist-packages (from tensorboard->keras-tuner) (3.17.3)\n",
            "Requirement already satisfied: tensorboard-data-server<0.7.0,>=0.6.0 in /usr/local/lib/python3.7/dist-packages (from tensorboard->keras-tuner) (0.6.1)\n",
            "Requirement already satisfied: tensorboard-plugin-wit>=1.6.0 in /usr/local/lib/python3.7/dist-packages (from tensorboard->keras-tuner) (1.8.1)\n",
            "Requirement already satisfied: markdown>=2.6.8 in /usr/local/lib/python3.7/dist-packages (from tensorboard->keras-tuner) (3.3.6)\n",
            "Requirement already satisfied: wheel>=0.26 in /usr/local/lib/python3.7/dist-packages (from tensorboard->keras-tuner) (0.37.1)\n",
            "Requirement already satisfied: google-auth-oauthlib<0.5,>=0.4.1 in /usr/local/lib/python3.7/dist-packages (from tensorboard->keras-tuner) (0.4.6)\n",
            "Requirement already satisfied: grpcio>=1.24.3 in /usr/local/lib/python3.7/dist-packages (from tensorboard->keras-tuner) (1.44.0)\n",
            "Requirement already satisfied: pyasn1-modules>=0.2.1 in /usr/local/lib/python3.7/dist-packages (from google-auth<3,>=1.6.3->tensorboard->keras-tuner) (0.2.8)\n",
            "Requirement already satisfied: cachetools<5.0,>=2.0.0 in /usr/local/lib/python3.7/dist-packages (from google-auth<3,>=1.6.3->tensorboard->keras-tuner) (4.2.4)\n",
            "Requirement already satisfied: rsa<5,>=3.1.4 in /usr/local/lib/python3.7/dist-packages (from google-auth<3,>=1.6.3->tensorboard->keras-tuner) (4.8)\n",
            "Requirement already satisfied: requests-oauthlib>=0.7.0 in /usr/local/lib/python3.7/dist-packages (from google-auth-oauthlib<0.5,>=0.4.1->tensorboard->keras-tuner) (1.3.1)\n",
            "Requirement already satisfied: importlib-metadata>=4.4 in /usr/local/lib/python3.7/dist-packages (from markdown>=2.6.8->tensorboard->keras-tuner) (4.11.3)\n",
            "Requirement already satisfied: zipp>=0.5 in /usr/local/lib/python3.7/dist-packages (from importlib-metadata>=4.4->markdown>=2.6.8->tensorboard->keras-tuner) (3.8.0)\n",
            "Requirement already satisfied: typing-extensions>=3.6.4 in /usr/local/lib/python3.7/dist-packages (from importlib-metadata>=4.4->markdown>=2.6.8->tensorboard->keras-tuner) (4.1.1)\n",
            "Requirement already satisfied: pyasn1<0.5.0,>=0.4.6 in /usr/local/lib/python3.7/dist-packages (from pyasn1-modules>=0.2.1->google-auth<3,>=1.6.3->tensorboard->keras-tuner) (0.4.8)\n",
            "Requirement already satisfied: oauthlib>=3.0.0 in /usr/local/lib/python3.7/dist-packages (from requests-oauthlib>=0.7.0->google-auth-oauthlib<0.5,>=0.4.1->tensorboard->keras-tuner) (3.2.0)\n",
            "Requirement already satisfied: tensorflow_addons in /usr/local/lib/python3.7/dist-packages (0.16.1)\n",
            "Requirement already satisfied: typeguard>=2.7 in /usr/local/lib/python3.7/dist-packages (from tensorflow_addons) (2.7.1)\n",
            "Drive already mounted at /content/drive; to attempt to forcibly remount, call drive.mount(\"/content/drive\", force_remount=True).\n"
          ]
        }
      ],
      "source": [
        "import pandas as pd\n",
        "import numpy as np\n",
        "import matplotlib.pyplot as plt\n",
        "import datetime\n",
        "from google.colab import drive\n",
        "from sklearn.model_selection import train_test_split\n",
        "from tensorflow import keras\n",
        "from tensorflow.keras import layers\n",
        "import tensorflow as tf\n",
        "!pip install keras-tuner\n",
        "!pip install tensorflow_addons\n",
        "import tensorflow_addons as tfa\n",
        "#from tensorflow.keras import mixed_precision\n",
        "import keras_tuner as kt\n",
        "#policy = mixed_precision.Policy('mixed_float16')\n",
        "#mixed_precision.set_global_policy(policy)\n",
        "keras.utils.set_random_seed(9)\n",
        "drive.mount('/content/drive')"
      ]
    },
    {
      "cell_type": "code",
      "execution_count": 2,
      "metadata": {
        "id": "i9xPCCfc1WNw"
      },
      "outputs": [],
      "source": [
        "injury_history = pd.read_csv('/content/drive/MyDrive/data_490/injury_data/injury_history')\n",
        "bio_data = pd.read_csv('/content/drive/MyDrive/data_490/processed_data/bio_data.csv')\n",
        "ts_data = pd.read_pickle('/content/drive/MyDrive/data_490/processed_data/thirty_day_timestep_df')"
      ]
    },
    {
      "cell_type": "code",
      "execution_count": 3,
      "metadata": {
        "id": "fRYrSMxaRFTc"
      },
      "outputs": [],
      "source": [
        "bio_data.player_age = bio_data['player_age'].str.split(' ').str[0]"
      ]
    },
    {
      "cell_type": "code",
      "execution_count": 4,
      "metadata": {
        "id": "lh1sdJDT4_-_"
      },
      "outputs": [],
      "source": [
        "indexes = np.random.permutation(len(ts_data))\n",
        "train_size = int(len(indexes)*.8)\n",
        "valid_size = int(train_size*.2)\n",
        "train_indexes = indexes[valid_size:train_size]\n",
        "valid_indexes = indexes[:valid_size]\n",
        "test_indexes = indexes[train_size:]"
      ]
    },
    {
      "cell_type": "code",
      "execution_count": 5,
      "metadata": {
        "id": "M8Cf9O5wJSux"
      },
      "outputs": [],
      "source": [
        "bio_data = bio_data.fillna(-1)\n",
        "injury_history = injury_history.fillna(-1)"
      ]
    },
    {
      "cell_type": "code",
      "execution_count": 6,
      "metadata": {
        "id": "jmtR3SYv57Kg"
      },
      "outputs": [],
      "source": [
        "ts_train = np.stack(ts_data.loc[train_indexes, 'time_series'].values).astype(np.float16)[:,:,:-1]\n",
        "ts_valid = np.stack(ts_data.loc[valid_indexes, 'time_series'].values).astype(np.float16)[:,:,:-1]\n",
        "ts_test = np.stack(ts_data.loc[test_indexes, 'time_series'].values).astype(np.float16)[:,:,:-1]\n",
        "bio_train = bio_data.iloc[train_indexes, 2:].astype(np.float16)\n",
        "bio_valid = bio_data.iloc[valid_indexes, 2:].astype(np.float16)\n",
        "bio_test = bio_data.iloc[test_indexes, 2:].astype(np.float16)\n",
        "injury_train = injury_history.iloc[train_indexes, 2:].astype(np.float16)\n",
        "injury_valid = injury_history.iloc[valid_indexes, 2:].astype(np.float16)\n",
        "injury_test = injury_history.iloc[test_indexes, 2:].astype(np.float16)\n",
        "train_target =  ts_data.loc[train_indexes, 'injured'].astype(np.float16)\n",
        "valid_target =  ts_data.loc[valid_indexes, 'injured'].astype(np.float16)\n",
        "test_target = ts_data.loc[test_indexes, 'injured'].astype(np.float16)"
      ]
    },
    {
      "cell_type": "code",
      "execution_count": 7,
      "metadata": {
        "id": "1hRm3p_4oERM"
      },
      "outputs": [],
      "source": [
        "class PositionalEncoding(tf.keras.layers.Layer):\n",
        "    def __init__(self, dropout=0, time_steps=30, features=85):\n",
        "        super().__init__()\n",
        "        self.dropout = layers.Dropout(dropout)\n",
        "        p = np.zeros(np.shape((1, time_steps, features)))\n",
        "        columns = np.arange(features)\n",
        "        rows = np.arange(time_steps)\n",
        "        p = rows.reshape(-1,1)/1000**(columns*2/features)\n",
        "        p[:, 0::2] = np.sin(p[:,0::2])\n",
        "        p[:, 1::2] = np.cos(p[:, 1::2])\n",
        "        self.p = p\n",
        "\n",
        "    def call(self, x, **kwargs):\n",
        "        x = x + self.p\n",
        "        return self.dropout(x)"
      ]
    },
    {
      "cell_type": "code",
      "execution_count": 8,
      "metadata": {
        "id": "znvTGaxs-SZR"
      },
      "outputs": [],
      "source": [
        "from re import X\n",
        "def transformer_encoder(inputs, head_size, num_heads, conv_filters, kernel_size, dropout=0):\n",
        "    x = layers.LayerNormalization(epsilon=1e-6)(inputs)\n",
        "    x = layers.MultiHeadAttention(\n",
        "        key_dim=head_size, num_heads=num_heads, dropout=dropout\n",
        "    )(x, x)\n",
        "    x = layers.Dropout(dropout)(x)\n",
        "    res = x + inputs\n",
        "\n",
        "    # Feed Forward Part\n",
        "    x = layers.LayerNormalization(epsilon=1e-6)(res)\n",
        "    x = layers.Conv1D(filters=conv_filters, kernel_size=kernel_size, activation=\"relu\", padding='same')(x)\n",
        "    X = layers.Dropout(dropout)(x)\n",
        "    x = layers.Conv1D(filters=inputs.shape[-1], kernel_size=1)(x)\n",
        "    return x + res"
      ]
    },
    {
      "cell_type": "code",
      "execution_count": 9,
      "metadata": {
        "id": "O8XU07y3-TKA"
      },
      "outputs": [],
      "source": [
        "def build_mixed_model(\n",
        "    ts_input_shape,\n",
        "    injury_input_shape,\n",
        "    bio_input_shape,\n",
        "    head_size=256,\n",
        "    num_heads=8,\n",
        "    conv_filters=64,\n",
        "    kernel_size=3,\n",
        "    num_transformer_blocks=4,\n",
        "    mlp_units=128,\n",
        "    mlp_layers=2,\n",
        "    encoder_dropout=0,\n",
        "    mlp_dropout=0,\n",
        "    pe_dropout=0,\n",
        "    embedding_dropout=0,\n",
        "    pe=True,\n",
        "    embedding=True,\n",
        "):\n",
        "    ts_input = keras.Input(shape=ts_input_shape)\n",
        "    x = ts_input\n",
        "    x = keras.layers.Normalization(axis=1)(x)\n",
        "    \n",
        "    #Embedding\n",
        "    if embedding:\n",
        "      x = layers.Flatten(input_shape=ts_input_shape)(x)\n",
        "      x = layers.Dense(ts_input_shape[-1]*ts_input_shape[-2], activation='tanh')(x)\n",
        "      x = layers.Dropout(embedding_dropout)(x)\n",
        "      x = layers.Reshape(ts_input_shape)(x)\n",
        "\n",
        "    #Positional Encoding\n",
        "    if pe:\n",
        "      x = PositionalEncoding()(x)\n",
        "    for _ in range(num_transformer_blocks):\n",
        "        x = transformer_encoder(x, head_size, num_heads, conv_filters, kernel_size, encoder_dropout)\n",
        "\n",
        "\n",
        "    bio_input = keras.Input(shape=bio_input_shape)\n",
        "    bio = layers.experimental.preprocessing.Normalization()(bio_input)\n",
        "\n",
        "    injury_input = keras.Input(shape=injury_input_shape) \n",
        "    injury = layers.experimental.preprocessing.Normalization()(injury_input)\n",
        "\n",
        "    x = layers.GlobalAveragePooling1D(data_format=\"channels_first\")(x)\n",
        "    x = tf.keras.layers.Concatenate()([x, injury, bio])\n",
        "\n",
        "    for i in range(mlp_layers):\n",
        "        x = layers.Dense(mlp_units, activation=\"relu\")(x)\n",
        "        x = layers.Dropout(mlp_dropout)(x)\n",
        "    inputs = [ts_input, injury_input, bio_input]\n",
        "    outputs = layers.Dense(1, activation=\"sigmoid\")(x)\n",
        "    return keras.Model(inputs, outputs)"
      ]
    },
    {
      "cell_type": "code",
      "execution_count": 10,
      "metadata": {
        "id": "LbITDFZlnxfv"
      },
      "outputs": [],
      "source": [
        "ts_shape = np.shape(ts_train)[1:]\n",
        "injury_shape = np.shape(injury_train)[1:]\n",
        "bio_shape = np.shape(bio_train)[1:]\n",
        "\n",
        "model = build_mixed_model(\n",
        "    ts_shape,\n",
        "    injury_shape,\n",
        "    bio_shape,\n",
        "    head_size=256,\n",
        "    num_heads=32,\n",
        "    conv_filters=32,\n",
        "    kernel_size=3,\n",
        "    num_transformer_blocks=5,\n",
        "    mlp_units=128,\n",
        "    mlp_layers=4,\n",
        "    encoder_dropout=.28,\n",
        "    mlp_dropout=.15,\n",
        "    pe_dropout=.25,\n",
        "    embedding_dropout=.07,\n",
        "    pe=True,\n",
        "    embedding=False\n",
        ")"
      ]
    },
    {
      "cell_type": "code",
      "source": [
        "opt = keras.optimizers.Adam(learning_rate=9e-5)\n",
        "opt = tfa.optimizers.SWA(opt, start_averaging=20, average_period=1)\n",
        "\n",
        "model.compile(\n",
        "    loss=tf.keras.losses.BinaryCrossentropy(),\n",
        "    optimizer=opt,\n",
        "    metrics=[keras.metrics.AUC()],\n",
        "    steps_per_execution=64,\n",
        "    jit_compile=True\n",
        ")"
      ],
      "metadata": {
        "id": "cKecoJUlXsz-"
      },
      "execution_count": 11,
      "outputs": []
    },
    {
      "cell_type": "code",
      "source": [
        "def scheduler(epoch, lr, warmup_epochs=20, decay_epochs=100, initial_lr=1e-10, base_lr=1e-4, min_lr=1e-8):\n",
        "    if epoch <= warmup_epochs:\n",
        "        pct = epoch / warmup_epochs\n",
        "        return ((base_lr - initial_lr) * pct) + initial_lr\n",
        "    if epoch > warmup_epochs and epoch < warmup_epochs+decay_epochs:\n",
        "        pct = 1 - ((epoch - warmup_epochs) / decay_epochs)\n",
        "        return ((base_lr - min_lr) * pct) + min_lr\n",
        "\n",
        "    return min_lr"
      ],
      "metadata": {
        "id": "kVSWneU0ozeG"
      },
      "execution_count": 12,
      "outputs": []
    },
    {
      "cell_type": "code",
      "execution_count": 13,
      "metadata": {
        "colab": {
          "base_uri": "https://localhost:8080/"
        },
        "id": "7EmagkelsU4e",
        "outputId": "b08a94bf-8871-4d55-d79a-27bb8d261659"
      },
      "outputs": [
        {
          "output_type": "stream",
          "name": "stdout",
          "text": [
            "Epoch 1/500\n",
            "5291/5291 [==============================] - 305s 58ms/step - loss: 222.9375 - auc: 0.4963 - val_loss: 66.2619 - val_auc: 0.4362 - lr: 1.0000e-10\n",
            "Epoch 2/500\n",
            "5291/5291 [==============================] - 247s 47ms/step - loss: 22.1640 - auc: 0.4963 - val_loss: 12.2213 - val_auc: 0.4987 - lr: 5.0001e-06\n",
            "Epoch 3/500\n",
            "5291/5291 [==============================] - 246s 46ms/step - loss: 9.8290 - auc: 0.5011 - val_loss: 5.1648 - val_auc: 0.4987 - lr: 1.0000e-05\n",
            "Epoch 4/500\n",
            "5291/5291 [==============================] - 247s 47ms/step - loss: 4.9306 - auc: 0.5012 - val_loss: 1.9190 - val_auc: 0.4984 - lr: 1.5000e-05\n",
            "Epoch 5/500\n",
            "5291/5291 [==============================] - 249s 47ms/step - loss: 2.6809 - auc: 0.5026 - val_loss: 0.6009 - val_auc: 0.4978 - lr: 2.0000e-05\n",
            "Epoch 6/500\n",
            "5291/5291 [==============================] - 255s 48ms/step - loss: 1.4750 - auc: 0.5017 - val_loss: 0.4323 - val_auc: 0.4997 - lr: 2.5000e-05\n",
            "Epoch 7/500\n",
            "5291/5291 [==============================] - 259s 49ms/step - loss: 0.8050 - auc: 0.5016 - val_loss: 0.1689 - val_auc: 0.5199 - lr: 3.0000e-05\n",
            "Epoch 8/500\n",
            "5291/5291 [==============================] - 260s 49ms/step - loss: 0.3953 - auc: 0.4999 - val_loss: 0.1091 - val_auc: 0.4174 - lr: 3.5000e-05\n",
            "Epoch 9/500\n",
            "5291/5291 [==============================] - 260s 49ms/step - loss: 0.1788 - auc: 0.4920 - val_loss: 0.1094 - val_auc: 0.4594 - lr: 4.0000e-05\n",
            "Epoch 10/500\n",
            "5291/5291 [==============================] - 260s 49ms/step - loss: 0.1119 - auc: 0.5057 - val_loss: 0.1020 - val_auc: 0.5694 - lr: 4.5000e-05\n",
            "Epoch 11/500\n",
            "5291/5291 [==============================] - 260s 49ms/step - loss: 0.0993 - auc: 0.5274 - val_loss: 0.0982 - val_auc: 0.5989 - lr: 5.0000e-05\n",
            "Epoch 12/500\n",
            "5291/5291 [==============================] - 260s 49ms/step - loss: 0.0934 - auc: 0.5737 - val_loss: 0.0880 - val_auc: 0.6551 - lr: 5.5000e-05\n",
            "Epoch 13/500\n",
            "5291/5291 [==============================] - 260s 49ms/step - loss: 0.0926 - auc: 0.5872 - val_loss: 0.0913 - val_auc: 0.6666 - lr: 6.0000e-05\n",
            "Epoch 14/500\n",
            "5291/5291 [==============================] - 259s 49ms/step - loss: 0.0896 - auc: 0.6063 - val_loss: 0.0863 - val_auc: 0.6749 - lr: 6.5000e-05\n",
            "Epoch 15/500\n",
            "5291/5291 [==============================] - 259s 49ms/step - loss: 0.0874 - auc: 0.6202 - val_loss: 0.0845 - val_auc: 0.6844 - lr: 7.0000e-05\n",
            "Epoch 16/500\n",
            "5291/5291 [==============================] - 260s 49ms/step - loss: 0.0907 - auc: 0.6189 - val_loss: 0.0844 - val_auc: 0.6836 - lr: 7.5000e-05\n",
            "Epoch 17/500\n",
            "5291/5291 [==============================] - 259s 49ms/step - loss: 0.0873 - auc: 0.6361 - val_loss: 0.0873 - val_auc: 0.6898 - lr: 8.0000e-05\n",
            "Epoch 18/500\n",
            "5291/5291 [==============================] - 259s 49ms/step - loss: 0.0869 - auc: 0.6403 - val_loss: 0.0845 - val_auc: 0.6821 - lr: 8.5000e-05\n",
            "Epoch 19/500\n",
            "5291/5291 [==============================] - 260s 49ms/step - loss: 0.0858 - auc: 0.6414 - val_loss: 0.0994 - val_auc: 0.6830 - lr: 9.0000e-05\n",
            "Epoch 20/500\n",
            "5291/5291 [==============================] - 259s 49ms/step - loss: 0.0860 - auc: 0.6565 - val_loss: 0.0844 - val_auc: 0.6870 - lr: 9.5000e-05\n",
            "Epoch 21/500\n",
            "5291/5291 [==============================] - 259s 49ms/step - loss: 0.0870 - auc: 0.6390 - val_loss: 0.0836 - val_auc: 0.6863 - lr: 1.0000e-04\n",
            "Epoch 22/500\n",
            "5291/5291 [==============================] - 259s 49ms/step - loss: 0.0847 - auc: 0.6591 - val_loss: 0.0846 - val_auc: 0.6883 - lr: 9.9000e-05\n",
            "Epoch 23/500\n",
            "5291/5291 [==============================] - 260s 49ms/step - loss: 0.0879 - auc: 0.6434 - val_loss: 0.0918 - val_auc: 0.6904 - lr: 9.8000e-05\n",
            "Epoch 24/500\n",
            "5291/5291 [==============================] - 260s 49ms/step - loss: 0.0846 - auc: 0.6664 - val_loss: 0.0843 - val_auc: 0.6879 - lr: 9.7000e-05\n",
            "Epoch 25/500\n",
            "5291/5291 [==============================] - 260s 49ms/step - loss: 0.0848 - auc: 0.6473 - val_loss: 0.0896 - val_auc: 0.6800 - lr: 9.6000e-05\n",
            "Epoch 26/500\n",
            "5291/5291 [==============================] - 260s 49ms/step - loss: 0.0835 - auc: 0.6764 - val_loss: 0.0874 - val_auc: 0.6960 - lr: 9.5000e-05\n",
            "Epoch 27/500\n",
            "5291/5291 [==============================] - 260s 49ms/step - loss: 0.0859 - auc: 0.6667 - val_loss: 0.0873 - val_auc: 0.6846 - lr: 9.4001e-05\n",
            "Epoch 28/500\n",
            "5291/5291 [==============================] - 260s 49ms/step - loss: 0.0850 - auc: 0.6574 - val_loss: 0.0846 - val_auc: 0.6948 - lr: 9.3001e-05\n",
            "Epoch 29/500\n",
            "5291/5291 [==============================] - 260s 49ms/step - loss: 0.0843 - auc: 0.6619 - val_loss: 0.0848 - val_auc: 0.6894 - lr: 9.2001e-05\n",
            "Epoch 30/500\n",
            "5291/5291 [==============================] - 260s 49ms/step - loss: 0.0914 - auc: 0.6405 - val_loss: 0.0875 - val_auc: 0.6930 - lr: 9.1001e-05\n",
            "Epoch 31/500\n",
            "5291/5291 [==============================] - 260s 49ms/step - loss: 0.0837 - auc: 0.6560 - val_loss: 0.0883 - val_auc: 0.6930 - lr: 9.0001e-05\n",
            "Epoch 32/500\n",
            "5291/5291 [==============================] - 260s 49ms/step - loss: 0.0844 - auc: 0.6613 - val_loss: 0.1557 - val_auc: 0.6941 - lr: 8.9001e-05\n",
            "Epoch 33/500\n",
            "5291/5291 [==============================] - 261s 49ms/step - loss: 0.0944 - auc: 0.6460 - val_loss: 0.1074 - val_auc: 0.6902 - lr: 8.8001e-05\n",
            "Epoch 34/500\n",
            "5291/5291 [==============================] - 260s 49ms/step - loss: 0.0911 - auc: 0.6447 - val_loss: 0.0854 - val_auc: 0.6860 - lr: 8.7001e-05\n",
            "Epoch 35/500\n",
            "5291/5291 [==============================] - 260s 49ms/step - loss: 0.0840 - auc: 0.6364 - val_loss: 0.0864 - val_auc: 0.6914 - lr: 8.6001e-05\n",
            "Epoch 36/500\n",
            "5291/5291 [==============================] - 261s 49ms/step - loss: 0.0853 - auc: 0.6419 - val_loss: 0.1496 - val_auc: 0.6953 - lr: 8.5001e-05\n"
          ]
        }
      ],
      "source": [
        "callbacks = [keras.callbacks.EarlyStopping(patience=10, monitor='val_auc', mode='max', restore_best_weights=False),\n",
        "             tf.keras.callbacks.LearningRateScheduler(scheduler)]\n",
        "\n",
        "history = model.fit([ts_train, injury_train, bio_train],\n",
        "            train_target,\n",
        "           validation_data=[[ts_valid, injury_valid, bio_valid], valid_target],\n",
        "           epochs=500, callbacks=callbacks,\n",
        "           batch_size=16)"
      ]
    },
    {
      "cell_type": "code",
      "source": [
        "pred = model.predict([ts_test, injury_test, bio_test])\n",
        "high_risk = np.where(pred > np.percentile(pred, 98))\n",
        "normal_risk = np.where((pred > np.percentile(pred, 40)) & (pred < np.percentile(pred, 98)))\n",
        "low_risk = np.where(pred < np.percentile(pred, 40))\n",
        "print(f'high risk injury rate: {np.mean(test_target.iloc[high_risk[0]])}')\n",
        "print(f'normal risk injury rate: {np.mean(test_target.iloc[normal_risk[0]])}')\n",
        "print(f'low risk injury rate: {np.mean(test_target.iloc[low_risk[0]])}')"
      ],
      "metadata": {
        "colab": {
          "base_uri": "https://localhost:8080/"
        },
        "id": "Lr7fN5Ovkj1C",
        "outputId": "416e914b-8a00-48d6-d6dd-dc0041c3f5fd"
      },
      "execution_count": 14,
      "outputs": [
        {
          "output_type": "stream",
          "name": "stdout",
          "text": [
            "high risk injury rate: 0.06036376953125\n",
            "normal risk injury rate: 0.024383544921875\n",
            "low risk injury rate: 0.00415802001953125\n"
          ]
        }
      ]
    },
    {
      "cell_type": "code",
      "source": [
        "valid_pred = model.predict([ts_valid, injury_valid, bio_valid])\n",
        "high_risk = np.where(valid_pred > np.percentile(valid_pred, 98))\n",
        "normal_risk = np.where((valid_pred > np.percentile(valid_pred, 40)) & (valid_pred < np.percentile(valid_pred, 98)))\n",
        "low_risk = np.where(valid_pred < np.percentile(valid_pred, 40))\n",
        "print(f'high risk injury rate: {np.mean(valid_target.iloc[high_risk[0]])}')\n",
        "print(f'normal risk injury rate: {np.mean(valid_target.iloc[normal_risk[0]])}')\n",
        "print(f'low risk injury rate: {np.mean(valid_target.iloc[low_risk[0]])}')"
      ],
      "metadata": {
        "colab": {
          "base_uri": "https://localhost:8080/"
        },
        "id": "w-dU3fx0k3Xs",
        "outputId": "1b31ab15-98f3-4931-e589-54eee362dd13"
      },
      "execution_count": 15,
      "outputs": [
        {
          "output_type": "stream",
          "name": "stdout",
          "text": [
            "high risk injury rate: 0.04718017578125\n",
            "normal risk injury rate: 0.024932861328125\n",
            "low risk injury rate: 0.005199432373046875\n"
          ]
        }
      ]
    },
    {
      "cell_type": "code",
      "source": [
        "train_pred = model.predict([ts_train, injury_train, bio_train])\n",
        "high_risk = np.where(train_pred > np.percentile(train_pred, 98))\n",
        "normal_risk = np.where((train_pred > np.percentile(train_pred, 40)) & (train_pred < np.percentile(train_pred, 98)))\n",
        "low_risk = np.where(train_pred < np.percentile(train_pred, 40))\n",
        "print(f'high risk injury rate: {np.mean(train_target.iloc[high_risk[0]])}')\n",
        "print(f'normal risk injury rate: {np.mean(train_target.iloc[normal_risk[0]])}')\n",
        "print(f'low risk injury rate: {np.mean(train_target.iloc[low_risk[0]])}')"
      ],
      "metadata": {
        "colab": {
          "base_uri": "https://localhost:8080/"
        },
        "id": "rzlUCDdKlRXq",
        "outputId": "33bc9a91-fd7d-42d7-ea2c-848daac2adf0"
      },
      "execution_count": 16,
      "outputs": [
        {
          "output_type": "stream",
          "name": "stdout",
          "text": [
            "high risk injury rate: 0.057281494140625\n",
            "normal risk injury rate: 0.0239410400390625\n",
            "low risk injury rate: 0.0024509429931640625\n"
          ]
        }
      ]
    },
    {
      "cell_type": "code",
      "source": [
        "pred = model.predict([ts_test, injury_test, bio_test])\n",
        "test_high_risk = np.where(pred > np.percentile(train_pred, 98))\n",
        "test_normal_risk = np.where((pred > np.percentile(train_pred, 25)) & (pred < np.percentile(train_pred, 75)))\n",
        "test_low_risk = np.where(pred < np.percentile(train_pred, 40))\n",
        "print(f'high risk injury rate: {np.mean(test_target.iloc[test_high_risk[0]])}')\n",
        "print(f'normal risk injury rate: {np.mean(test_target.iloc[test_normal_risk[0]])}')\n",
        "print(f'low risk injury rate: {np.mean(test_target.iloc[test_low_risk[0]])}')"
      ],
      "metadata": {
        "colab": {
          "base_uri": "https://localhost:8080/"
        },
        "id": "yddHHq3zsd9U",
        "outputId": "1939ba40-cd9d-44c2-e0e5-845aaebf8053"
      },
      "execution_count": 17,
      "outputs": [
        {
          "output_type": "stream",
          "name": "stdout",
          "text": [
            "high risk injury rate: 0.0604248046875\n",
            "normal risk injury rate: 0.0164642333984375\n",
            "low risk injury rate: 0.0038280487060546875\n"
          ]
        }
      ]
    },
    {
      "cell_type": "code",
      "source": [
        "from sklearn import metrics\n",
        "predictions = np.zeros(len(test_target), dtype=int)\n",
        "predictions[test_high_risk[0]] = 1\n",
        "metrics.ConfusionMatrixDisplay.from_predictions(test_target, predictions)"
      ],
      "metadata": {
        "colab": {
          "base_uri": "https://localhost:8080/",
          "height": 297
        },
        "id": "Nog6FJF-6zpb",
        "outputId": "dbedd2ea-cceb-440a-d912-a7ebf65ef95a"
      },
      "execution_count": 18,
      "outputs": [
        {
          "output_type": "execute_result",
          "data": {
            "text/plain": [
              "<sklearn.metrics._plot.confusion_matrix.ConfusionMatrixDisplay at 0x7fe6e9495750>"
            ]
          },
          "metadata": {},
          "execution_count": 18
        },
        {
          "output_type": "display_data",
          "data": {
            "text/plain": [
              "<Figure size 432x288 with 2 Axes>"
            ],
            "image/png": "[encoded data removed]"
          },
          "metadata": {
            "needs_background": "light"
          }
        }
      ]
    },
    {
      "cell_type": "code",
      "source": [
        "model.save('/content/drive/MyDrive/data_490/injury_data/final_model')"
      ],
      "metadata": {
        "colab": {
          "base_uri": "https://localhost:8080/"
        },
        "id": "WCmIY6Xu-HKG",
        "outputId": "cfb0592b-ae0d-45b3-e4bf-274873dde893"
      },
      "execution_count": 22,
      "outputs": [
        {
          "output_type": "stream",
          "name": "stderr",
          "text": [
            "WARNING:absl:Found untraced functions such as dropout_layer_call_fn, dropout_layer_call_and_return_conditional_losses, query_layer_call_fn, query_layer_call_and_return_conditional_losses, key_layer_call_fn while saving (showing 5 of 62). These functions will not be directly callable after loading.\n"
          ]
        },
        {
          "output_type": "stream",
          "name": "stdout",
          "text": [
            "INFO:tensorflow:Assets written to: /content/drive/MyDrive/data_490/injury_data/final_model/assets\n"
          ]
        },
        {
          "output_type": "stream",
          "name": "stderr",
          "text": [
            "INFO:tensorflow:Assets written to: /content/drive/MyDrive/data_490/injury_data/final_model/assets\n"
          ]
        }
      ]
    },
    {
      "cell_type": "code",
      "source": [
        "metrics.f1_score(test_target, predictions)"
      ],
      "metadata": {
        "colab": {
          "base_uri": "https://localhost:8080/"
        },
        "id": "ywNdkt3T92_P",
        "outputId": "ff13519f-e845-435c-9733-dd77ce50aa9c"
      },
      "execution_count": 20,
      "outputs": [
        {
          "output_type": "execute_result",
          "data": {
            "text/plain": [
              "0.06626506024096386"
            ]
          },
          "metadata": {},
          "execution_count": 20
        }
      ]
    }
  ],
  "metadata": {
    "accelerator": "GPU",
    "colab": {
      "machine_shape": "hm",
      "name": "Final Mixed Model Transformer.ipynb",
      "provenance": [],
      "collapsed_sections": [],
      "authorship_tag": "ABX9TyMnExehQ6XGtXJ6eHeIz5GV"
    },
    "kernelspec": {
      "display_name": "Python 3",
      "name": "python3"
    },
    "language_info": {
      "name": "python"
    }
  },
  "nbformat": 4,
  "nbformat_minor": 0
}